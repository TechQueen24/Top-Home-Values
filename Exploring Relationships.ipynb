{
 "cells": [
  {
   "cell_type": "markdown",
   "id": "66fd00bb-35a8-4689-bfa0-b0522f3865fd",
   "metadata": {},
   "source": [
    "# 6.2 Exploring Relationships between Home Value and Personal Income per Capita"
   ]
  },
  {
   "cell_type": "markdown",
   "id": "d246c210-8a57-48f9-ac48-f9226afcd74d",
   "metadata": {},
   "source": [
    "## Questions to Explore"
   ]
  },
  {
   "cell_type": "markdown",
   "id": "98cea05e-5bb8-44bf-89e1-a3a46c3f7de4",
   "metadata": {},
   "source": [
    "* What top 10 counties have the highest Home values in 2024? what about in 2023?\n",
    "* What top 10 counties have the highest Income in 2023?\n",
    "* Is there any correlation between Home Value and Years?\n",
    "* Is there any correlation between income and years?\n",
    "* What is the minimum annual salary for counties with top Home Values?\n",
    "* Are there are any correlations between Home Value and Income?\n"
   ]
  },
  {
   "cell_type": "markdown",
   "id": "6281df18-cf44-42f4-9fdf-582271a39d67",
   "metadata": {},
   "source": [
    "### This script contains the following:\n",
    "\n",
    "#### 1. Importing Visualization Libraries and Data\n",
    "#### 2. Data Cleaning\n",
    "#### 3. Exploring Relationships\n",
    "     Correlations\n",
    "     Scatterplots\n",
    "     Pair Plots\n",
    "     Categorical Plots"
   ]
  },
  {
   "cell_type": "markdown",
   "id": "4021fc61-ee27-4093-803b-a8a4dd926cdf",
   "metadata": {},
   "source": [
    "## 1. Import Visualization Libraries and Data"
   ]
  },
  {
   "cell_type": "code",
   "execution_count": 100,
   "id": "c4c29636-013a-4a26-9683-8d8e6827acf2",
   "metadata": {},
   "outputs": [],
   "source": [
    "import pandas as pd\n",
    "import numpy as np\n",
    "import seaborn as sns\n",
    "import matplotlib.pyplot as plt\n",
    "import matplotlib\n",
    "import os"
   ]
  },
  {
   "cell_type": "code",
   "execution_count": 48,
   "id": "513a2c9e-f894-4144-a6f9-f7552d898bec",
   "metadata": {},
   "outputs": [
    {
     "data": {
      "text/plain": [
       "'3.9.2'"
      ]
     },
     "execution_count": 48,
     "metadata": {},
     "output_type": "execute_result"
    }
   ],
   "source": [
    "matplotlib.__version__"
   ]
  },
  {
   "cell_type": "code",
   "execution_count": 50,
   "id": "a603c4ce-b6fc-42b2-88d8-e375163bbc13",
   "metadata": {},
   "outputs": [],
   "source": [
    "# This option ensures the charts you create are displayed in the notebook without the need to \"call\" them specifically.\n",
    "\n",
    "%matplotlib inline"
   ]
  },
  {
   "cell_type": "code",
   "execution_count": 52,
   "id": "74e352e3-e0a1-4159-8a79-d81023c611f3",
   "metadata": {},
   "outputs": [],
   "source": [
    "# Set Path\n",
    "path = r'/Volumes/Get to Work/Data Analytics Course 2025/Personal Project'"
   ]
  },
  {
   "cell_type": "code",
   "execution_count": 54,
   "id": "4620ace4-d1b6-4df8-b22d-e0f4c6495460",
   "metadata": {},
   "outputs": [],
   "source": [
    "# Import Data"
   ]
  },
  {
   "cell_type": "code",
   "execution_count": 56,
   "id": "2af67268-5740-4be9-85f8-4cab46d0d324",
   "metadata": {},
   "outputs": [],
   "source": [
    "df = pd.read_csv(os.path.join(path, 'Home Value (Long Format).csv'))"
   ]
  },
  {
   "cell_type": "code",
   "execution_count": 58,
   "id": "13633c2e-5e90-4e90-9cd4-627007828353",
   "metadata": {},
   "outputs": [],
   "source": [
    "df_income = pd.read_csv(os.path.join(path, 'Income per Capita (Long Format).csv'))"
   ]
  },
  {
   "cell_type": "code",
   "execution_count": 60,
   "id": "d7ec4c9c-0c69-4663-9b7a-f6fbb8d56ffd",
   "metadata": {},
   "outputs": [
    {
     "data": {
      "text/html": [
       "<div>\n",
       "<style scoped>\n",
       "    .dataframe tbody tr th:only-of-type {\n",
       "        vertical-align: middle;\n",
       "    }\n",
       "\n",
       "    .dataframe tbody tr th {\n",
       "        vertical-align: top;\n",
       "    }\n",
       "\n",
       "    .dataframe thead th {\n",
       "        text-align: right;\n",
       "    }\n",
       "</style>\n",
       "<table border=\"1\" class=\"dataframe\">\n",
       "  <thead>\n",
       "    <tr style=\"text-align: right;\">\n",
       "      <th></th>\n",
       "      <th>County</th>\n",
       "      <th>State</th>\n",
       "      <th>Year</th>\n",
       "      <th>Home Value</th>\n",
       "    </tr>\n",
       "  </thead>\n",
       "  <tbody>\n",
       "    <tr>\n",
       "      <th>0</th>\n",
       "      <td>Abbeville County</td>\n",
       "      <td>SC</td>\n",
       "      <td>2003</td>\n",
       "      <td>$80,882.39</td>\n",
       "    </tr>\n",
       "    <tr>\n",
       "      <th>1</th>\n",
       "      <td>Abbeville County</td>\n",
       "      <td>SC</td>\n",
       "      <td>2002</td>\n",
       "      <td>$74,554.93</td>\n",
       "    </tr>\n",
       "  </tbody>\n",
       "</table>\n",
       "</div>"
      ],
      "text/plain": [
       "               County State  Year   Home Value\n",
       "0   Abbeville County    SC   2003  $80,882.39 \n",
       "1   Abbeville County    SC   2002  $74,554.93 "
      ]
     },
     "execution_count": 60,
     "metadata": {},
     "output_type": "execute_result"
    }
   ],
   "source": [
    "df.head(2)"
   ]
  },
  {
   "cell_type": "code",
   "execution_count": 62,
   "id": "3b876983-66bf-464b-9624-ac52d52b803e",
   "metadata": {},
   "outputs": [],
   "source": [
    "#This removes space at the beginning and end of the cells\n",
    "df['County']=df['County'].str.strip()\n",
    "df['State']=df['State'].str.strip()"
   ]
  },
  {
   "cell_type": "code",
   "execution_count": 64,
   "id": "c625c66a-2b08-4370-8d89-6e847c0f08e4",
   "metadata": {},
   "outputs": [
    {
     "data": {
      "text/plain": [
       "array(['Abbeville County', 'Acadia Parish', 'Ada County', ...,\n",
       "       'Yuba County', 'Yuma County', 'Zapata County'], dtype=object)"
      ]
     },
     "execution_count": 64,
     "metadata": {},
     "output_type": "execute_result"
    }
   ],
   "source": [
    "df['County'].unique()"
   ]
  },
  {
   "cell_type": "code",
   "execution_count": 66,
   "id": "6d142f8e-ff68-4458-8d94-d7be6ef4d33d",
   "metadata": {},
   "outputs": [
    {
     "data": {
      "text/plain": [
       "array(['SC', 'LA', 'ID', 'OK', 'MO', 'IA', 'PA', 'OH', 'NE', 'CO', 'WI',\n",
       "       'IL', 'MS', 'IN', 'WA', 'VT', 'MN', 'FL', 'NC', 'CA', 'NY', 'WY',\n",
       "       'VA', 'MI', 'MD', 'KY', 'KS', 'AK', 'TN', 'TX', 'ME', 'AZ', 'GA',\n",
       "       'AR', 'NJ', 'AL', 'OR', 'WV', 'MA', 'MT', 'NH', 'NM', 'ND', 'UT',\n",
       "       'RI', 'SD', 'NV', 'DC', 'CT', 'HI', 'DE'], dtype=object)"
      ]
     },
     "execution_count": 66,
     "metadata": {},
     "output_type": "execute_result"
    }
   ],
   "source": [
    "df['State'].unique()"
   ]
  },
  {
   "cell_type": "code",
   "execution_count": 68,
   "id": "ebc54c58-4900-48a4-893d-4a5d66beead6",
   "metadata": {},
   "outputs": [
    {
     "data": {
      "text/plain": [
       "array(['Acadia Parish', 'Ascension Parish', 'Assumption Parish', ...,\n",
       "       'Uinta County', 'Washakie County', 'Weston County'], dtype=object)"
      ]
     },
     "execution_count": 68,
     "metadata": {},
     "output_type": "execute_result"
    }
   ],
   "source": [
    "df_income['County'].unique()"
   ]
  },
  {
   "cell_type": "code",
   "execution_count": 70,
   "id": "ab3697e7-ba0c-492a-8071-ae4059f48fc7",
   "metadata": {},
   "outputs": [
    {
     "data": {
      "text/html": [
       "<div>\n",
       "<style scoped>\n",
       "    .dataframe tbody tr th:only-of-type {\n",
       "        vertical-align: middle;\n",
       "    }\n",
       "\n",
       "    .dataframe tbody tr th {\n",
       "        vertical-align: top;\n",
       "    }\n",
       "\n",
       "    .dataframe thead th {\n",
       "        text-align: right;\n",
       "    }\n",
       "</style>\n",
       "<table border=\"1\" class=\"dataframe\">\n",
       "  <thead>\n",
       "    <tr style=\"text-align: right;\">\n",
       "      <th></th>\n",
       "      <th>County</th>\n",
       "      <th>State</th>\n",
       "      <th>Year</th>\n",
       "      <th>Income per Capita</th>\n",
       "    </tr>\n",
       "  </thead>\n",
       "  <tbody>\n",
       "    <tr>\n",
       "      <th>0</th>\n",
       "      <td>Acadia Parish</td>\n",
       "      <td>LA</td>\n",
       "      <td>2000</td>\n",
       "      <td>$19,635.00</td>\n",
       "    </tr>\n",
       "    <tr>\n",
       "      <th>1</th>\n",
       "      <td>Acadia Parish</td>\n",
       "      <td>LA</td>\n",
       "      <td>2001</td>\n",
       "      <td>$21,125.00</td>\n",
       "    </tr>\n",
       "  </tbody>\n",
       "</table>\n",
       "</div>"
      ],
      "text/plain": [
       "          County State  Year Income per Capita\n",
       "0  Acadia Parish    LA  2000       $19,635.00 \n",
       "1  Acadia Parish    LA  2001       $21,125.00 "
      ]
     },
     "execution_count": 70,
     "metadata": {},
     "output_type": "execute_result"
    }
   ],
   "source": [
    "df_income.head(2)"
   ]
  },
  {
   "cell_type": "code",
   "execution_count": 72,
   "id": "895240f7-6f96-43fa-bade-2bb669324bf5",
   "metadata": {},
   "outputs": [],
   "source": [
    "# Merge the DataFrames on County, State, and Year\n",
    "merged_df = pd.merge(df_income, df, on=['County', 'State', 'Year'], how='inner')"
   ]
  },
  {
   "cell_type": "code",
   "execution_count": 74,
   "id": "400c39e5-bb38-4f4f-a39f-9008ef38e9b9",
   "metadata": {},
   "outputs": [
    {
     "data": {
      "text/html": [
       "<div>\n",
       "<style scoped>\n",
       "    .dataframe tbody tr th:only-of-type {\n",
       "        vertical-align: middle;\n",
       "    }\n",
       "\n",
       "    .dataframe tbody tr th {\n",
       "        vertical-align: top;\n",
       "    }\n",
       "\n",
       "    .dataframe thead th {\n",
       "        text-align: right;\n",
       "    }\n",
       "</style>\n",
       "<table border=\"1\" class=\"dataframe\">\n",
       "  <thead>\n",
       "    <tr style=\"text-align: right;\">\n",
       "      <th></th>\n",
       "      <th>County</th>\n",
       "      <th>State</th>\n",
       "      <th>Year</th>\n",
       "      <th>Income per Capita</th>\n",
       "      <th>Home Value</th>\n",
       "    </tr>\n",
       "  </thead>\n",
       "  <tbody>\n",
       "    <tr>\n",
       "      <th>0</th>\n",
       "      <td>Acadia Parish</td>\n",
       "      <td>LA</td>\n",
       "      <td>2002</td>\n",
       "      <td>$21,675.00</td>\n",
       "      <td>NaN</td>\n",
       "    </tr>\n",
       "    <tr>\n",
       "      <th>1</th>\n",
       "      <td>Acadia Parish</td>\n",
       "      <td>LA</td>\n",
       "      <td>2003</td>\n",
       "      <td>$22,489.00</td>\n",
       "      <td>NaN</td>\n",
       "    </tr>\n",
       "    <tr>\n",
       "      <th>2</th>\n",
       "      <td>Acadia Parish</td>\n",
       "      <td>LA</td>\n",
       "      <td>2009</td>\n",
       "      <td>$31,626.00</td>\n",
       "      <td>$101,962.50</td>\n",
       "    </tr>\n",
       "    <tr>\n",
       "      <th>3</th>\n",
       "      <td>Acadia Parish</td>\n",
       "      <td>LA</td>\n",
       "      <td>2010</td>\n",
       "      <td>$32,294.00</td>\n",
       "      <td>$101,751.06</td>\n",
       "    </tr>\n",
       "    <tr>\n",
       "      <th>4</th>\n",
       "      <td>Acadia Parish</td>\n",
       "      <td>LA</td>\n",
       "      <td>2011</td>\n",
       "      <td>$33,854.00</td>\n",
       "      <td>$104,755.04</td>\n",
       "    </tr>\n",
       "    <tr>\n",
       "      <th>...</th>\n",
       "      <td>...</td>\n",
       "      <td>...</td>\n",
       "      <td>...</td>\n",
       "      <td>...</td>\n",
       "      <td>...</td>\n",
       "    </tr>\n",
       "    <tr>\n",
       "      <th>334564</th>\n",
       "      <td>Washakie County</td>\n",
       "      <td>WY</td>\n",
       "      <td>2021</td>\n",
       "      <td>$58,601.00</td>\n",
       "      <td>$188,304.90</td>\n",
       "    </tr>\n",
       "    <tr>\n",
       "      <th>334565</th>\n",
       "      <td>Washakie County</td>\n",
       "      <td>WY</td>\n",
       "      <td>2022</td>\n",
       "      <td>$54,752.00</td>\n",
       "      <td>$390,266.29</td>\n",
       "    </tr>\n",
       "    <tr>\n",
       "      <th>334566</th>\n",
       "      <td>Washakie County</td>\n",
       "      <td>WY</td>\n",
       "      <td>2022</td>\n",
       "      <td>$54,752.00</td>\n",
       "      <td>$218,406.94</td>\n",
       "    </tr>\n",
       "    <tr>\n",
       "      <th>334567</th>\n",
       "      <td>Washakie County</td>\n",
       "      <td>WY</td>\n",
       "      <td>2023</td>\n",
       "      <td>$57,474.00</td>\n",
       "      <td>$381,970.37</td>\n",
       "    </tr>\n",
       "    <tr>\n",
       "      <th>334568</th>\n",
       "      <td>Washakie County</td>\n",
       "      <td>WY</td>\n",
       "      <td>2023</td>\n",
       "      <td>$57,474.00</td>\n",
       "      <td>$229,374.26</td>\n",
       "    </tr>\n",
       "  </tbody>\n",
       "</table>\n",
       "<p>334569 rows × 5 columns</p>\n",
       "</div>"
      ],
      "text/plain": [
       "                 County State  Year Income per Capita    Home Value\n",
       "0         Acadia Parish    LA  2002       $21,675.00            NaN\n",
       "1         Acadia Parish    LA  2003       $22,489.00            NaN\n",
       "2         Acadia Parish    LA  2009       $31,626.00   $101,962.50 \n",
       "3         Acadia Parish    LA  2010       $32,294.00   $101,751.06 \n",
       "4         Acadia Parish    LA  2011       $33,854.00   $104,755.04 \n",
       "...                 ...   ...   ...               ...           ...\n",
       "334564  Washakie County    WY  2021       $58,601.00   $188,304.90 \n",
       "334565  Washakie County    WY  2022       $54,752.00   $390,266.29 \n",
       "334566  Washakie County    WY  2022       $54,752.00   $218,406.94 \n",
       "334567  Washakie County    WY  2023       $57,474.00   $381,970.37 \n",
       "334568  Washakie County    WY  2023       $57,474.00   $229,374.26 \n",
       "\n",
       "[334569 rows x 5 columns]"
      ]
     },
     "execution_count": 74,
     "metadata": {},
     "output_type": "execute_result"
    }
   ],
   "source": [
    "# Something is wrong, there are too many duplicates. Let's clean the data. Go to section 2. Data Cleaning\n",
    "merged_df"
   ]
  },
  {
   "cell_type": "markdown",
   "id": "69fc1ac6-6d5f-4a13-8555-30936c30c13e",
   "metadata": {},
   "source": [
    "## 2. Data Cleaning"
   ]
  },
  {
   "cell_type": "markdown",
   "id": "25fc9d19-9781-437f-a5af-f92e8a12b6ef",
   "metadata": {},
   "source": [
    "### Duplicates Check"
   ]
  },
  {
   "cell_type": "code",
   "execution_count": 76,
   "id": "18ae731c-8483-494b-8654-a95fc586f3e6",
   "metadata": {},
   "outputs": [],
   "source": [
    "df_dups = df[df.duplicated()]"
   ]
  },
  {
   "cell_type": "code",
   "execution_count": 78,
   "id": "236c28f1-ce9b-4b6d-a726-e2ebaa0d321a",
   "metadata": {},
   "outputs": [
    {
     "data": {
      "text/plain": [
       "(8616, 4)"
      ]
     },
     "execution_count": 78,
     "metadata": {},
     "output_type": "execute_result"
    }
   ],
   "source": [
    "#There are over 8000 duplicates in the home value data. \n",
    "df_dups.shape "
   ]
  },
  {
   "cell_type": "code",
   "execution_count": 80,
   "id": "a6de6e8a-c550-419d-a611-1bf2b7d8d60a",
   "metadata": {},
   "outputs": [
    {
     "name": "stderr",
     "output_type": "stream",
     "text": [
      "<>:6: SyntaxWarning: invalid escape sequence '\\$'\n",
      "<>:6: SyntaxWarning: invalid escape sequence '\\$'\n",
      "/var/folders/2c/vfk21vln5lg30cw_7hkzwsxh0000gn/T/ipykernel_1276/2785003330.py:6: SyntaxWarning: invalid escape sequence '\\$'\n",
      "  df['Home Value'] = df['Home Value'].str.replace('[\\$,]', '', regex=True)\n"
     ]
    },
    {
     "data": {
      "text/html": [
       "<div>\n",
       "<style scoped>\n",
       "    .dataframe tbody tr th:only-of-type {\n",
       "        vertical-align: middle;\n",
       "    }\n",
       "\n",
       "    .dataframe tbody tr th {\n",
       "        vertical-align: top;\n",
       "    }\n",
       "\n",
       "    .dataframe thead th {\n",
       "        text-align: right;\n",
       "    }\n",
       "</style>\n",
       "<table border=\"1\" class=\"dataframe\">\n",
       "  <thead>\n",
       "    <tr style=\"text-align: right;\">\n",
       "      <th></th>\n",
       "      <th>County</th>\n",
       "      <th>State</th>\n",
       "      <th>Year</th>\n",
       "      <th>Home Value</th>\n",
       "    </tr>\n",
       "  </thead>\n",
       "  <tbody>\n",
       "    <tr>\n",
       "      <th>0</th>\n",
       "      <td>Abbeville County</td>\n",
       "      <td>SC</td>\n",
       "      <td>2003</td>\n",
       "      <td>80882.39</td>\n",
       "    </tr>\n",
       "    <tr>\n",
       "      <th>1</th>\n",
       "      <td>Abbeville County</td>\n",
       "      <td>SC</td>\n",
       "      <td>2002</td>\n",
       "      <td>74554.93</td>\n",
       "    </tr>\n",
       "    <tr>\n",
       "      <th>2</th>\n",
       "      <td>Abbeville County</td>\n",
       "      <td>SC</td>\n",
       "      <td>2003</td>\n",
       "      <td>64189.28</td>\n",
       "    </tr>\n",
       "    <tr>\n",
       "      <th>3</th>\n",
       "      <td>Abbeville County</td>\n",
       "      <td>SC</td>\n",
       "      <td>2003</td>\n",
       "      <td>63427.19</td>\n",
       "    </tr>\n",
       "    <tr>\n",
       "      <th>4</th>\n",
       "      <td>Abbeville County</td>\n",
       "      <td>SC</td>\n",
       "      <td>2002</td>\n",
       "      <td>61037.65</td>\n",
       "    </tr>\n",
       "    <tr>\n",
       "      <th>...</th>\n",
       "      <td>...</td>\n",
       "      <td>...</td>\n",
       "      <td>...</td>\n",
       "      <td>...</td>\n",
       "    </tr>\n",
       "    <tr>\n",
       "      <th>352237</th>\n",
       "      <td>Zapata County</td>\n",
       "      <td>TX</td>\n",
       "      <td>2013</td>\n",
       "      <td>109469.96</td>\n",
       "    </tr>\n",
       "    <tr>\n",
       "      <th>352238</th>\n",
       "      <td>Zapata County</td>\n",
       "      <td>TX</td>\n",
       "      <td>2012</td>\n",
       "      <td>107180.82</td>\n",
       "    </tr>\n",
       "    <tr>\n",
       "      <th>352239</th>\n",
       "      <td>Zapata County</td>\n",
       "      <td>TX</td>\n",
       "      <td>2010</td>\n",
       "      <td>102424.37</td>\n",
       "    </tr>\n",
       "    <tr>\n",
       "      <th>352240</th>\n",
       "      <td>Zapata County</td>\n",
       "      <td>TX</td>\n",
       "      <td>2009</td>\n",
       "      <td>101659.32</td>\n",
       "    </tr>\n",
       "    <tr>\n",
       "      <th>352241</th>\n",
       "      <td>Zapata County</td>\n",
       "      <td>TX</td>\n",
       "      <td>2011</td>\n",
       "      <td>100340.57</td>\n",
       "    </tr>\n",
       "  </tbody>\n",
       "</table>\n",
       "<p>340492 rows × 4 columns</p>\n",
       "</div>"
      ],
      "text/plain": [
       "                  County State  Year  Home Value\n",
       "0       Abbeville County    SC  2003    80882.39\n",
       "1       Abbeville County    SC  2002    74554.93\n",
       "2       Abbeville County    SC  2003    64189.28\n",
       "3       Abbeville County    SC  2003    63427.19\n",
       "4       Abbeville County    SC  2002    61037.65\n",
       "...                  ...   ...   ...         ...\n",
       "352237     Zapata County    TX  2013   109469.96\n",
       "352238     Zapata County    TX  2012   107180.82\n",
       "352239     Zapata County    TX  2010   102424.37\n",
       "352240     Zapata County    TX  2009   101659.32\n",
       "352241     Zapata County    TX  2011   100340.57\n",
       "\n",
       "[340492 rows x 4 columns]"
      ]
     },
     "execution_count": 80,
     "metadata": {},
     "output_type": "execute_result"
    }
   ],
   "source": [
    "# Step 1: Clean the data - Strip spaces and replace known invalid values like '(Blanks)' with NaN\n",
    "df['Home Value'] = df['Home Value'].str.strip()  # Remove leading and trailing spaces\n",
    "df['Home Value'] = df['Home Value'].replace(['(Blanks)', '', None], pd.NA)  # Replace invalid entries with NaN\n",
    "\n",
    "# Remove dollar signs and commas, then convert to float\n",
    "df['Home Value'] = df['Home Value'].str.replace('[\\$,]', '', regex=True)\n",
    "df['Home Value'] = pd.to_numeric(df['Home Value'], errors='coerce')  # Convert to float, invalid values become NaN\n",
    "\n",
    "# Drop rows with NaN\n",
    "df.dropna(subset=['Home Value'], inplace=True)\n",
    "\n",
    "df"
   ]
  },
  {
   "cell_type": "code",
   "execution_count": 82,
   "id": "ddb9ecdf-f045-490a-84c3-ccfa088b0031",
   "metadata": {},
   "outputs": [],
   "source": [
    "df_income_dups = df_income[df_income.duplicated()]"
   ]
  },
  {
   "cell_type": "code",
   "execution_count": 84,
   "id": "db0ff030-8e81-433a-a770-0c28ac26ee94",
   "metadata": {},
   "outputs": [
    {
     "data": {
      "text/plain": [
       "(0, 4)"
      ]
     },
     "execution_count": 84,
     "metadata": {},
     "output_type": "execute_result"
    }
   ],
   "source": [
    "df_income_dups.shape #No Duplicates! but let's clean it, just incase"
   ]
  },
  {
   "cell_type": "code",
   "execution_count": 86,
   "id": "d631cf4c-2d0e-4740-9fb6-0844ec84f3f0",
   "metadata": {},
   "outputs": [
    {
     "name": "stderr",
     "output_type": "stream",
     "text": [
      "<>:6: SyntaxWarning: invalid escape sequence '\\$'\n",
      "<>:6: SyntaxWarning: invalid escape sequence '\\$'\n",
      "/var/folders/2c/vfk21vln5lg30cw_7hkzwsxh0000gn/T/ipykernel_1276/3111120001.py:6: SyntaxWarning: invalid escape sequence '\\$'\n",
      "  df_income['Income per Capita'] = df_income['Income per Capita'].str.replace('[\\$,]', '', regex=True)\n"
     ]
    },
    {
     "data": {
      "text/html": [
       "<div>\n",
       "<style scoped>\n",
       "    .dataframe tbody tr th:only-of-type {\n",
       "        vertical-align: middle;\n",
       "    }\n",
       "\n",
       "    .dataframe tbody tr th {\n",
       "        vertical-align: top;\n",
       "    }\n",
       "\n",
       "    .dataframe thead th {\n",
       "        text-align: right;\n",
       "    }\n",
       "</style>\n",
       "<table border=\"1\" class=\"dataframe\">\n",
       "  <thead>\n",
       "    <tr style=\"text-align: right;\">\n",
       "      <th></th>\n",
       "      <th>County</th>\n",
       "      <th>State</th>\n",
       "      <th>Year</th>\n",
       "      <th>Income per Capita</th>\n",
       "    </tr>\n",
       "  </thead>\n",
       "  <tbody>\n",
       "    <tr>\n",
       "      <th>0</th>\n",
       "      <td>Acadia Parish</td>\n",
       "      <td>LA</td>\n",
       "      <td>2000</td>\n",
       "      <td>19635.0</td>\n",
       "    </tr>\n",
       "    <tr>\n",
       "      <th>1</th>\n",
       "      <td>Acadia Parish</td>\n",
       "      <td>LA</td>\n",
       "      <td>2001</td>\n",
       "      <td>21125.0</td>\n",
       "    </tr>\n",
       "    <tr>\n",
       "      <th>2</th>\n",
       "      <td>Acadia Parish</td>\n",
       "      <td>LA</td>\n",
       "      <td>2002</td>\n",
       "      <td>21675.0</td>\n",
       "    </tr>\n",
       "    <tr>\n",
       "      <th>3</th>\n",
       "      <td>Acadia Parish</td>\n",
       "      <td>LA</td>\n",
       "      <td>2003</td>\n",
       "      <td>22489.0</td>\n",
       "    </tr>\n",
       "    <tr>\n",
       "      <th>4</th>\n",
       "      <td>Acadia Parish</td>\n",
       "      <td>LA</td>\n",
       "      <td>2004</td>\n",
       "      <td>22908.0</td>\n",
       "    </tr>\n",
       "    <tr>\n",
       "      <th>...</th>\n",
       "      <td>...</td>\n",
       "      <td>...</td>\n",
       "      <td>...</td>\n",
       "      <td>...</td>\n",
       "    </tr>\n",
       "    <tr>\n",
       "      <th>74179</th>\n",
       "      <td>Weston County</td>\n",
       "      <td>WY</td>\n",
       "      <td>2019</td>\n",
       "      <td>45537.0</td>\n",
       "    </tr>\n",
       "    <tr>\n",
       "      <th>74180</th>\n",
       "      <td>Weston County</td>\n",
       "      <td>WY</td>\n",
       "      <td>2020</td>\n",
       "      <td>47876.0</td>\n",
       "    </tr>\n",
       "    <tr>\n",
       "      <th>74181</th>\n",
       "      <td>Weston County</td>\n",
       "      <td>WY</td>\n",
       "      <td>2021</td>\n",
       "      <td>50512.0</td>\n",
       "    </tr>\n",
       "    <tr>\n",
       "      <th>74182</th>\n",
       "      <td>Weston County</td>\n",
       "      <td>WY</td>\n",
       "      <td>2022</td>\n",
       "      <td>51090.0</td>\n",
       "    </tr>\n",
       "    <tr>\n",
       "      <th>74183</th>\n",
       "      <td>Weston County</td>\n",
       "      <td>WY</td>\n",
       "      <td>2023</td>\n",
       "      <td>54380.0</td>\n",
       "    </tr>\n",
       "  </tbody>\n",
       "</table>\n",
       "<p>74165 rows × 4 columns</p>\n",
       "</div>"
      ],
      "text/plain": [
       "              County State  Year  Income per Capita\n",
       "0      Acadia Parish    LA  2000            19635.0\n",
       "1      Acadia Parish    LA  2001            21125.0\n",
       "2      Acadia Parish    LA  2002            21675.0\n",
       "3      Acadia Parish    LA  2003            22489.0\n",
       "4      Acadia Parish    LA  2004            22908.0\n",
       "...              ...   ...   ...                ...\n",
       "74179  Weston County    WY  2019            45537.0\n",
       "74180  Weston County    WY  2020            47876.0\n",
       "74181  Weston County    WY  2021            50512.0\n",
       "74182  Weston County    WY  2022            51090.0\n",
       "74183  Weston County    WY  2023            54380.0\n",
       "\n",
       "[74165 rows x 4 columns]"
      ]
     },
     "execution_count": 86,
     "metadata": {},
     "output_type": "execute_result"
    }
   ],
   "source": [
    "# Step 1: Clean the data - Strip spaces and replace known invalid values like '(Blanks)' with NaN\n",
    "df_income['Income per Capita'] = df_income['Income per Capita'].str.strip()  # Remove leading and trailing spaces\n",
    "df_income['Income per Capita'] = df_income['Income per Capita'].replace(['(Blanks)', '', None], pd.NA)  # Replace invalid entries with NaN\n",
    "\n",
    "# Remove dollar signs and commas, then convert to float\n",
    "df_income['Income per Capita'] = df_income['Income per Capita'].str.replace('[\\$,]', '', regex=True)\n",
    "df_income['Income per Capita'] = pd.to_numeric(df_income['Income per Capita'], errors='coerce')  # Convert to float, invalid values become NaN\n",
    "\n",
    "# Drop rows with NaN\n",
    "df_income.dropna(subset=['Income per Capita'], inplace=True)\n",
    "\n",
    "df_income"
   ]
  },
  {
   "cell_type": "code",
   "execution_count": 88,
   "id": "203c60b9-f1ef-4bfc-9d67-edb358fcc3c3",
   "metadata": {},
   "outputs": [],
   "source": [
    "# Step 2: Group and average\n",
    "df_avg = df.groupby(['County', 'State', 'Year'], as_index=False)['Home Value'].mean()\n",
    "df_income_avg = df_income.groupby(['County', 'State', 'Year'], as_index=False)['Income per Capita'].mean()\n",
    "\n",
    "df_avg['Home Value'] = df_avg['Home Value'].astype(int)\n",
    "df_income_avg['Income per Capita'] = df_income_avg['Income per Capita'].astype(int)\n"
   ]
  },
  {
   "cell_type": "code",
   "execution_count": 90,
   "id": "c590b93b-4ba2-4da6-82b4-ac326f0b55a7",
   "metadata": {},
   "outputs": [
    {
     "data": {
      "text/html": [
       "<div>\n",
       "<style scoped>\n",
       "    .dataframe tbody tr th:only-of-type {\n",
       "        vertical-align: middle;\n",
       "    }\n",
       "\n",
       "    .dataframe tbody tr th {\n",
       "        vertical-align: top;\n",
       "    }\n",
       "\n",
       "    .dataframe thead th {\n",
       "        text-align: right;\n",
       "    }\n",
       "</style>\n",
       "<table border=\"1\" class=\"dataframe\">\n",
       "  <thead>\n",
       "    <tr style=\"text-align: right;\">\n",
       "      <th></th>\n",
       "      <th>County</th>\n",
       "      <th>State</th>\n",
       "      <th>Year</th>\n",
       "      <th>Home Value</th>\n",
       "      <th>Income per Capita</th>\n",
       "    </tr>\n",
       "  </thead>\n",
       "  <tbody>\n",
       "    <tr>\n",
       "      <th>0</th>\n",
       "      <td>Abbeville County</td>\n",
       "      <td>SC</td>\n",
       "      <td>2000</td>\n",
       "      <td>50121</td>\n",
       "      <td>23401</td>\n",
       "    </tr>\n",
       "    <tr>\n",
       "      <th>1</th>\n",
       "      <td>Abbeville County</td>\n",
       "      <td>SC</td>\n",
       "      <td>2001</td>\n",
       "      <td>52615</td>\n",
       "      <td>23029</td>\n",
       "    </tr>\n",
       "    <tr>\n",
       "      <th>2</th>\n",
       "      <td>Abbeville County</td>\n",
       "      <td>SC</td>\n",
       "      <td>2002</td>\n",
       "      <td>60726</td>\n",
       "      <td>21383</td>\n",
       "    </tr>\n",
       "    <tr>\n",
       "      <th>3</th>\n",
       "      <td>Abbeville County</td>\n",
       "      <td>SC</td>\n",
       "      <td>2003</td>\n",
       "      <td>64416</td>\n",
       "      <td>20250</td>\n",
       "    </tr>\n",
       "    <tr>\n",
       "      <th>4</th>\n",
       "      <td>Abbeville County</td>\n",
       "      <td>SC</td>\n",
       "      <td>2004</td>\n",
       "      <td>68112</td>\n",
       "      <td>21646</td>\n",
       "    </tr>\n",
       "    <tr>\n",
       "      <th>...</th>\n",
       "      <td>...</td>\n",
       "      <td>...</td>\n",
       "      <td>...</td>\n",
       "      <td>...</td>\n",
       "      <td>...</td>\n",
       "    </tr>\n",
       "    <tr>\n",
       "      <th>48535</th>\n",
       "      <td>Zapata County</td>\n",
       "      <td>TX</td>\n",
       "      <td>2019</td>\n",
       "      <td>132103</td>\n",
       "      <td>29731</td>\n",
       "    </tr>\n",
       "    <tr>\n",
       "      <th>48536</th>\n",
       "      <td>Zapata County</td>\n",
       "      <td>TX</td>\n",
       "      <td>2020</td>\n",
       "      <td>141435</td>\n",
       "      <td>29730</td>\n",
       "    </tr>\n",
       "    <tr>\n",
       "      <th>48537</th>\n",
       "      <td>Zapata County</td>\n",
       "      <td>TX</td>\n",
       "      <td>2021</td>\n",
       "      <td>154648</td>\n",
       "      <td>33375</td>\n",
       "    </tr>\n",
       "    <tr>\n",
       "      <th>48538</th>\n",
       "      <td>Zapata County</td>\n",
       "      <td>TX</td>\n",
       "      <td>2022</td>\n",
       "      <td>155962</td>\n",
       "      <td>32715</td>\n",
       "    </tr>\n",
       "    <tr>\n",
       "      <th>48539</th>\n",
       "      <td>Zapata County</td>\n",
       "      <td>TX</td>\n",
       "      <td>2023</td>\n",
       "      <td>136595</td>\n",
       "      <td>34154</td>\n",
       "    </tr>\n",
       "  </tbody>\n",
       "</table>\n",
       "<p>48540 rows × 5 columns</p>\n",
       "</div>"
      ],
      "text/plain": [
       "                 County State  Year  Home Value  Income per Capita\n",
       "0      Abbeville County    SC  2000       50121              23401\n",
       "1      Abbeville County    SC  2001       52615              23029\n",
       "2      Abbeville County    SC  2002       60726              21383\n",
       "3      Abbeville County    SC  2003       64416              20250\n",
       "4      Abbeville County    SC  2004       68112              21646\n",
       "...                 ...   ...   ...         ...                ...\n",
       "48535     Zapata County    TX  2019      132103              29731\n",
       "48536     Zapata County    TX  2020      141435              29730\n",
       "48537     Zapata County    TX  2021      154648              33375\n",
       "48538     Zapata County    TX  2022      155962              32715\n",
       "48539     Zapata County    TX  2023      136595              34154\n",
       "\n",
       "[48540 rows x 5 columns]"
      ]
     },
     "execution_count": 90,
     "metadata": {},
     "output_type": "execute_result"
    }
   ],
   "source": [
    "# Step 3: Merge the dataframes- There are now a total of 48,540 merged rows (House value and Income)\n",
    "merged_df_V2 = pd.merge(df_avg, df_income_avg, on=['County', 'State', 'Year'], how='inner')\n",
    "\n",
    "merged_df_V2"
   ]
  },
  {
   "cell_type": "code",
   "execution_count": 92,
   "id": "6e4637c3-8946-4cc1-ae0b-4369bf866df4",
   "metadata": {},
   "outputs": [],
   "source": [
    "merged_df_V2.to_csv('merged_home_income', index=False)"
   ]
  },
  {
   "cell_type": "markdown",
   "id": "c3df3607-0a80-4fc5-a121-56a6afe3e4ce",
   "metadata": {},
   "source": [
    "### Data Check"
   ]
  },
  {
   "cell_type": "markdown",
   "id": "86eecbda-97e3-4984-a2ff-ee9cc329a9e0",
   "metadata": {},
   "source": [
    "#### House Value Info"
   ]
  },
  {
   "cell_type": "code",
   "execution_count": 45,
   "id": "ef151ed5-2a4b-494f-beda-de998be5dc00",
   "metadata": {},
   "outputs": [
    {
     "data": {
      "text/plain": [
       "(340492, 4)"
      ]
     },
     "execution_count": 45,
     "metadata": {},
     "output_type": "execute_result"
    }
   ],
   "source": [
    "df.shape"
   ]
  },
  {
   "cell_type": "code",
   "execution_count": 47,
   "id": "5cf0e720-f593-4f4d-abad-ce120274829b",
   "metadata": {},
   "outputs": [
    {
     "data": {
      "text/plain": [
       "Index(['County', 'State', 'Year', 'Home Value'], dtype='object')"
      ]
     },
     "execution_count": 47,
     "metadata": {},
     "output_type": "execute_result"
    }
   ],
   "source": [
    "df.columns"
   ]
  },
  {
   "cell_type": "code",
   "execution_count": 49,
   "id": "11eaa873-1b3d-4e31-bc6f-939efb3864e6",
   "metadata": {},
   "outputs": [
    {
     "data": {
      "text/plain": [
       "County         object\n",
       "State          object\n",
       "Year            int64\n",
       "Home Value    float64\n",
       "dtype: object"
      ]
     },
     "execution_count": 49,
     "metadata": {},
     "output_type": "execute_result"
    }
   ],
   "source": [
    "df.dtypes"
   ]
  },
  {
   "cell_type": "code",
   "execution_count": 51,
   "id": "9c03f7b0-c140-49b2-9233-7702569812a1",
   "metadata": {},
   "outputs": [
    {
     "data": {
      "text/html": [
       "<div>\n",
       "<style scoped>\n",
       "    .dataframe tbody tr th:only-of-type {\n",
       "        vertical-align: middle;\n",
       "    }\n",
       "\n",
       "    .dataframe tbody tr th {\n",
       "        vertical-align: top;\n",
       "    }\n",
       "\n",
       "    .dataframe thead th {\n",
       "        text-align: right;\n",
       "    }\n",
       "</style>\n",
       "<table border=\"1\" class=\"dataframe\">\n",
       "  <thead>\n",
       "    <tr style=\"text-align: right;\">\n",
       "      <th></th>\n",
       "      <th>County</th>\n",
       "      <th>State</th>\n",
       "      <th>Year</th>\n",
       "      <th>Home Value</th>\n",
       "    </tr>\n",
       "  </thead>\n",
       "  <tbody>\n",
       "    <tr>\n",
       "      <th>0</th>\n",
       "      <td>Abbeville County</td>\n",
       "      <td>SC</td>\n",
       "      <td>2003</td>\n",
       "      <td>80882.39</td>\n",
       "    </tr>\n",
       "    <tr>\n",
       "      <th>1</th>\n",
       "      <td>Abbeville County</td>\n",
       "      <td>SC</td>\n",
       "      <td>2002</td>\n",
       "      <td>74554.93</td>\n",
       "    </tr>\n",
       "    <tr>\n",
       "      <th>2</th>\n",
       "      <td>Abbeville County</td>\n",
       "      <td>SC</td>\n",
       "      <td>2003</td>\n",
       "      <td>64189.28</td>\n",
       "    </tr>\n",
       "    <tr>\n",
       "      <th>3</th>\n",
       "      <td>Abbeville County</td>\n",
       "      <td>SC</td>\n",
       "      <td>2003</td>\n",
       "      <td>63427.19</td>\n",
       "    </tr>\n",
       "    <tr>\n",
       "      <th>4</th>\n",
       "      <td>Abbeville County</td>\n",
       "      <td>SC</td>\n",
       "      <td>2002</td>\n",
       "      <td>61037.65</td>\n",
       "    </tr>\n",
       "  </tbody>\n",
       "</table>\n",
       "</div>"
      ],
      "text/plain": [
       "             County State  Year  Home Value\n",
       "0  Abbeville County    SC  2003    80882.39\n",
       "1  Abbeville County    SC  2002    74554.93\n",
       "2  Abbeville County    SC  2003    64189.28\n",
       "3  Abbeville County    SC  2003    63427.19\n",
       "4  Abbeville County    SC  2002    61037.65"
      ]
     },
     "execution_count": 51,
     "metadata": {},
     "output_type": "execute_result"
    }
   ],
   "source": [
    "df.head()"
   ]
  },
  {
   "cell_type": "markdown",
   "id": "4aa81a6d-603a-4f46-94db-23bcce0f93e0",
   "metadata": {},
   "source": [
    "#### Income Info"
   ]
  },
  {
   "cell_type": "code",
   "execution_count": 53,
   "id": "3a4bb71a-975d-437b-b320-c9858bdca216",
   "metadata": {},
   "outputs": [
    {
     "data": {
      "text/plain": [
       "(74165, 4)"
      ]
     },
     "execution_count": 53,
     "metadata": {},
     "output_type": "execute_result"
    }
   ],
   "source": [
    "df_income.shape"
   ]
  },
  {
   "cell_type": "code",
   "execution_count": 55,
   "id": "ff33c184-c673-45fa-9dc4-b75046fb3a95",
   "metadata": {},
   "outputs": [
    {
     "data": {
      "text/plain": [
       "Index(['County', 'State', 'Year', 'Income per Capita'], dtype='object')"
      ]
     },
     "execution_count": 55,
     "metadata": {},
     "output_type": "execute_result"
    }
   ],
   "source": [
    "df_income.columns"
   ]
  },
  {
   "cell_type": "code",
   "execution_count": 57,
   "id": "6ec5a3a1-8d01-4c85-b49b-afea3944893e",
   "metadata": {},
   "outputs": [
    {
     "data": {
      "text/plain": [
       "County                object\n",
       "State                 object\n",
       "Year                   int64\n",
       "Income per Capita    float64\n",
       "dtype: object"
      ]
     },
     "execution_count": 57,
     "metadata": {},
     "output_type": "execute_result"
    }
   ],
   "source": [
    "df_income.dtypes"
   ]
  },
  {
   "cell_type": "code",
   "execution_count": 59,
   "id": "56dbcc7f-d47e-452a-8c15-39bed4f9439f",
   "metadata": {},
   "outputs": [
    {
     "data": {
      "text/html": [
       "<div>\n",
       "<style scoped>\n",
       "    .dataframe tbody tr th:only-of-type {\n",
       "        vertical-align: middle;\n",
       "    }\n",
       "\n",
       "    .dataframe tbody tr th {\n",
       "        vertical-align: top;\n",
       "    }\n",
       "\n",
       "    .dataframe thead th {\n",
       "        text-align: right;\n",
       "    }\n",
       "</style>\n",
       "<table border=\"1\" class=\"dataframe\">\n",
       "  <thead>\n",
       "    <tr style=\"text-align: right;\">\n",
       "      <th></th>\n",
       "      <th>County</th>\n",
       "      <th>State</th>\n",
       "      <th>Year</th>\n",
       "      <th>Income per Capita</th>\n",
       "    </tr>\n",
       "  </thead>\n",
       "  <tbody>\n",
       "    <tr>\n",
       "      <th>0</th>\n",
       "      <td>Acadia Parish</td>\n",
       "      <td>LA</td>\n",
       "      <td>2000</td>\n",
       "      <td>19635.0</td>\n",
       "    </tr>\n",
       "    <tr>\n",
       "      <th>1</th>\n",
       "      <td>Acadia Parish</td>\n",
       "      <td>LA</td>\n",
       "      <td>2001</td>\n",
       "      <td>21125.0</td>\n",
       "    </tr>\n",
       "    <tr>\n",
       "      <th>2</th>\n",
       "      <td>Acadia Parish</td>\n",
       "      <td>LA</td>\n",
       "      <td>2002</td>\n",
       "      <td>21675.0</td>\n",
       "    </tr>\n",
       "    <tr>\n",
       "      <th>3</th>\n",
       "      <td>Acadia Parish</td>\n",
       "      <td>LA</td>\n",
       "      <td>2003</td>\n",
       "      <td>22489.0</td>\n",
       "    </tr>\n",
       "    <tr>\n",
       "      <th>4</th>\n",
       "      <td>Acadia Parish</td>\n",
       "      <td>LA</td>\n",
       "      <td>2004</td>\n",
       "      <td>22908.0</td>\n",
       "    </tr>\n",
       "  </tbody>\n",
       "</table>\n",
       "</div>"
      ],
      "text/plain": [
       "          County State  Year  Income per Capita\n",
       "0  Acadia Parish    LA  2000            19635.0\n",
       "1  Acadia Parish    LA  2001            21125.0\n",
       "2  Acadia Parish    LA  2002            21675.0\n",
       "3  Acadia Parish    LA  2003            22489.0\n",
       "4  Acadia Parish    LA  2004            22908.0"
      ]
     },
     "execution_count": 59,
     "metadata": {},
     "output_type": "execute_result"
    }
   ],
   "source": [
    "df_income.head()"
   ]
  },
  {
   "cell_type": "markdown",
   "id": "b2becf25-56fe-4769-8df7-8edd8583e657",
   "metadata": {},
   "source": [
    "### Missing Values Check"
   ]
  },
  {
   "cell_type": "code",
   "execution_count": 61,
   "id": "75663983-e86d-4e5a-9f20-72f15432dec1",
   "metadata": {},
   "outputs": [
    {
     "data": {
      "text/plain": [
       "County        0\n",
       "State         0\n",
       "Year          0\n",
       "Home Value    0\n",
       "dtype: int64"
      ]
     },
     "execution_count": 61,
     "metadata": {},
     "output_type": "execute_result"
    }
   ],
   "source": [
    "#No missing values\n",
    "df.isnull().sum()"
   ]
  },
  {
   "cell_type": "code",
   "execution_count": 63,
   "id": "7dc9b8d2-3567-4c2a-b2ab-934b7b5cf368",
   "metadata": {},
   "outputs": [
    {
     "data": {
      "text/plain": [
       "County               0\n",
       "State                0\n",
       "Year                 0\n",
       "Income per Capita    0\n",
       "dtype: int64"
      ]
     },
     "execution_count": 63,
     "metadata": {},
     "output_type": "execute_result"
    }
   ],
   "source": [
    "#No missing values\n",
    "df_income.isnull().sum()"
   ]
  },
  {
   "cell_type": "markdown",
   "id": "4ececa66-da34-4f93-bb8e-9f79547cffe2",
   "metadata": {},
   "source": [
    "## Top 10 counties by Home Value"
   ]
  },
  {
   "cell_type": "code",
   "execution_count": 69,
   "id": "6734bb72-2ecf-4440-ac2f-d49d5befb4a0",
   "metadata": {},
   "outputs": [],
   "source": [
    "filtered_data = merged_df_V2[merged_df_V2['Year'] == 2023]"
   ]
  },
  {
   "cell_type": "code",
   "execution_count": 97,
   "id": "a3116239-91dd-4cff-a550-75f752c8d114",
   "metadata": {},
   "outputs": [],
   "source": [
    "sorted_data = filtered_data.sort_values(by='Home Value', ascending=False)"
   ]
  },
  {
   "cell_type": "code",
   "execution_count": 73,
   "id": "d2262795-2071-4aeb-8d4b-774f73a47144",
   "metadata": {},
   "outputs": [],
   "source": [
    "top_counties_home_values = sorted_data.head(10)"
   ]
  },
  {
   "cell_type": "code",
   "execution_count": 91,
   "id": "d273c2c1-c240-4c80-b24b-764b8442c7c1",
   "metadata": {},
   "outputs": [
    {
     "name": "stdout",
     "output_type": "stream",
     "text": [
      "                   County State  Home Value\n",
      "31327    Nantucket County    MA     2544839\n",
      "35073       Pitkin County    CO     2523246\n",
      "42893        Teton County    WY     2456931\n",
      "39338  Santa Clara County    CA     2296597\n",
      "27949       Martin County    FL     2188296\n",
      "39127    San Mateo County    CA     2119128\n",
      "39151   San Miguel County    CO     2008949\n",
      "27416        Marin County    CA     1851008\n",
      "16344        Glynn County    GA     1648907\n",
      "12821        Dukes County    MA     1496877\n"
     ]
    }
   ],
   "source": [
    "# Review if this result matches excel data- It does!\n",
    "print(top_counties_home_values[['County', 'State', 'Home Value']])"
   ]
  },
  {
   "cell_type": "markdown",
   "id": "c8aca21c-ac72-4bb0-a9cc-343b020ea6d5",
   "metadata": {},
   "source": [
    "#### To find the minimum income for the top Home Values. Let's include the Income per Capita column"
   ]
  },
  {
   "cell_type": "code",
   "execution_count": 100,
   "id": "916c88d0-e1f0-4a55-bbb7-158913db9e8c",
   "metadata": {},
   "outputs": [
    {
     "name": "stdout",
     "output_type": "stream",
     "text": [
      "                   County State  Home Value  Income per Capita\n",
      "31327    Nantucket County    MA     2544839             120333\n",
      "35073       Pitkin County    CO     2523246             255839\n",
      "42893        Teton County    WY     2456931             471751\n",
      "39338  Santa Clara County    CA     2296597             151003\n",
      "27949       Martin County    FL     2188296             114799\n",
      "39127    San Mateo County    CA     2119128             172828\n",
      "39151   San Miguel County    CO     2008949             156403\n",
      "27416        Marin County    CA     1851008             180575\n",
      "16344        Glynn County    GA     1648907              62751\n",
      "12821        Dukes County    MA     1496877              98605\n"
     ]
    }
   ],
   "source": [
    "# Review if this result matches excel data- It does!\n",
    "print(top_counties_home_values[['County', 'State', 'Home Value', 'Income per Capita']])"
   ]
  },
  {
   "cell_type": "markdown",
   "id": "f661b8b8-be46-4681-aafe-dc896475f272",
   "metadata": {},
   "source": [
    "According to the list above the minimum income needed to qualify for a top home value in the U.S.A. is $98,605"
   ]
  },
  {
   "cell_type": "markdown",
   "id": "616a4de4-e8e9-40b9-b600-035d3741255a",
   "metadata": {},
   "source": [
    "## Top 10 counties by Income per capita"
   ]
  },
  {
   "cell_type": "code",
   "execution_count": 79,
   "id": "1d7ae10a-e5cb-462c-8cc4-842fda0207ed",
   "metadata": {},
   "outputs": [],
   "source": [
    "filtered_data_income = merged_df_V2[merged_df_V2['Year'] == 2023]"
   ]
  },
  {
   "cell_type": "code",
   "execution_count": 81,
   "id": "40fb6fdb-deb8-4c0a-992c-a2b51b9becd1",
   "metadata": {},
   "outputs": [],
   "source": [
    "sorted_data_income = filtered_data_income.sort_values(by='Income per Capita', ascending=False)"
   ]
  },
  {
   "cell_type": "code",
   "execution_count": 83,
   "id": "3dd464db-b639-4286-920b-a78d9145c0d1",
   "metadata": {},
   "outputs": [],
   "source": [
    "top_counties_income = sorted_data_income.head(10)"
   ]
  },
  {
   "cell_type": "code",
   "execution_count": 93,
   "id": "f43481ab-c24b-45a4-84e3-de223610ccc1",
   "metadata": {},
   "outputs": [
    {
     "name": "stdout",
     "output_type": "stream",
     "text": [
      "                     County State  Income per Capita\n",
      "42893          Teton County    WY             471751\n",
      "42032         Summit County    UT             259993\n",
      "35073         Pitkin County    CO             255839\n",
      "3418          Blaine County    ID             187239\n",
      "27416          Marin County    CA             180575\n",
      "40627        Sherman County    TX             173932\n",
      "39127      San Mateo County    CA             172828\n",
      "38986  San Francisco County    CA             164807\n",
      "39151     San Miguel County    CO             156403\n",
      "39338    Santa Clara County    CA             151003\n"
     ]
    }
   ],
   "source": [
    "# Review if this result matches excel data- It's correct!\n",
    "print(top_counties_income[['County', 'State', 'Income per Capita']])"
   ]
  },
  {
   "cell_type": "markdown",
   "id": "064a7300-05d9-44fe-a41d-52c6e099f597",
   "metadata": {},
   "source": [
    "## Exploring Relationshps"
   ]
  },
  {
   "cell_type": "markdown",
   "id": "c47c66f7-dcc1-4d3c-b2e9-f727a2e3297a",
   "metadata": {},
   "source": [
    "## Correlations"
   ]
  },
  {
   "cell_type": "markdown",
   "id": "24edbbde-7287-4804-8747-eeb7497f0b4f",
   "metadata": {},
   "source": [
    "### Using Corrleation Matix"
   ]
  },
  {
   "cell_type": "code",
   "execution_count": 109,
   "id": "1ae60922-b175-40c2-b949-70c09e981070",
   "metadata": {},
   "outputs": [
    {
     "data": {
      "text/html": [
       "<div>\n",
       "<style scoped>\n",
       "    .dataframe tbody tr th:only-of-type {\n",
       "        vertical-align: middle;\n",
       "    }\n",
       "\n",
       "    .dataframe tbody tr th {\n",
       "        vertical-align: top;\n",
       "    }\n",
       "\n",
       "    .dataframe thead th {\n",
       "        text-align: right;\n",
       "    }\n",
       "</style>\n",
       "<table border=\"1\" class=\"dataframe\">\n",
       "  <thead>\n",
       "    <tr style=\"text-align: right;\">\n",
       "      <th></th>\n",
       "      <th>County</th>\n",
       "      <th>State</th>\n",
       "      <th>Year</th>\n",
       "      <th>Home Value</th>\n",
       "      <th>Income per Capita</th>\n",
       "    </tr>\n",
       "  </thead>\n",
       "  <tbody>\n",
       "    <tr>\n",
       "      <th>0</th>\n",
       "      <td>Abbeville County</td>\n",
       "      <td>SC</td>\n",
       "      <td>2000</td>\n",
       "      <td>50121</td>\n",
       "      <td>23401</td>\n",
       "    </tr>\n",
       "    <tr>\n",
       "      <th>1</th>\n",
       "      <td>Abbeville County</td>\n",
       "      <td>SC</td>\n",
       "      <td>2001</td>\n",
       "      <td>52615</td>\n",
       "      <td>23029</td>\n",
       "    </tr>\n",
       "    <tr>\n",
       "      <th>2</th>\n",
       "      <td>Abbeville County</td>\n",
       "      <td>SC</td>\n",
       "      <td>2002</td>\n",
       "      <td>60726</td>\n",
       "      <td>21383</td>\n",
       "    </tr>\n",
       "    <tr>\n",
       "      <th>3</th>\n",
       "      <td>Abbeville County</td>\n",
       "      <td>SC</td>\n",
       "      <td>2003</td>\n",
       "      <td>64416</td>\n",
       "      <td>20250</td>\n",
       "    </tr>\n",
       "    <tr>\n",
       "      <th>4</th>\n",
       "      <td>Abbeville County</td>\n",
       "      <td>SC</td>\n",
       "      <td>2004</td>\n",
       "      <td>68112</td>\n",
       "      <td>21646</td>\n",
       "    </tr>\n",
       "  </tbody>\n",
       "</table>\n",
       "</div>"
      ],
      "text/plain": [
       "             County State  Year  Home Value  Income per Capita\n",
       "0  Abbeville County    SC  2000       50121              23401\n",
       "1  Abbeville County    SC  2001       52615              23029\n",
       "2  Abbeville County    SC  2002       60726              21383\n",
       "3  Abbeville County    SC  2003       64416              20250\n",
       "4  Abbeville County    SC  2004       68112              21646"
      ]
     },
     "execution_count": 109,
     "metadata": {},
     "output_type": "execute_result"
    }
   ],
   "source": [
    "merged_df_V2.head()"
   ]
  },
  {
   "cell_type": "code",
   "execution_count": 111,
   "id": "d6a9b6a3-a2b4-4ee9-84c8-04755223ecd9",
   "metadata": {},
   "outputs": [
    {
     "data": {
      "text/plain": [
       "County               object\n",
       "State                object\n",
       "Year                  int64\n",
       "Home Value            int64\n",
       "Income per Capita     int64\n",
       "dtype: object"
      ]
     },
     "execution_count": 111,
     "metadata": {},
     "output_type": "execute_result"
    }
   ],
   "source": [
    "merged_df_V2.dtypes"
   ]
  },
  {
   "cell_type": "code",
   "execution_count": 113,
   "id": "760d989b-458f-45d0-a0e2-41024b6973f9",
   "metadata": {},
   "outputs": [],
   "source": [
    "# Create a correlation matrix between the Year, Home Value, and Income using pandas\n",
    "Yearmerge_df = merged_df_V2[['Year', 'Home Value', 'Income per Capita']]"
   ]
  },
  {
   "cell_type": "code",
   "execution_count": 115,
   "id": "7c91a2a1-2225-42e7-b273-5ded4772c891",
   "metadata": {},
   "outputs": [
    {
     "name": "stdout",
     "output_type": "stream",
     "text": [
      "                       Year  Home Value  Income per Capita\n",
      "Year               1.000000    0.249479           0.594000\n",
      "Home Value         0.249479    1.000000           0.686571\n",
      "Income per Capita  0.594000    0.686571           1.000000\n"
     ]
    }
   ],
   "source": [
    "correlation_matrix = Yearmerge_df.corr()\n",
    "print(correlation_matrix)"
   ]
  },
  {
   "cell_type": "markdown",
   "id": "fe4931a5-5693-4046-9782-f0cd15dc11ce",
   "metadata": {},
   "source": [
    "### The following can be deduced based on the relationship above:\n",
    "1. **Home Value vs Year**:              weak relationship (0.2)\n",
    "2. **Home Value vs Income per Capita**: strong relationship (0.7)\n",
    "3. **Income per Capita vs Year**:       strong relationship (0.6)"
   ]
  },
  {
   "cell_type": "code",
   "execution_count": 117,
   "id": "b2d1ec51-afa5-4367-adfd-d2451cb11512",
   "metadata": {},
   "outputs": [
    {
     "name": "stdout",
     "output_type": "stream",
     "text": [
      "                Year  Home Value\n",
      "Year        1.000000    0.249479\n",
      "Home Value  0.249479    1.000000\n"
     ]
    }
   ],
   "source": [
    "# Create a correlation matrix between the Year and Home Value\n",
    "Yhomevalue_df = merged_df_V2[['Year', 'Home Value']]\n",
    "correlation_matrixyh = Yhomevalue_df.corr()\n",
    "print(correlation_matrixyh)"
   ]
  },
  {
   "cell_type": "code",
   "execution_count": 104,
   "id": "d3e12f01-ccf6-4001-8017-f546a25872ed",
   "metadata": {},
   "outputs": [
    {
     "name": "stdout",
     "output_type": "stream",
     "text": [
      "                    Year  Income per Capita\n",
      "Year               1.000              0.594\n",
      "Income per Capita  0.594              1.000\n"
     ]
    }
   ],
   "source": [
    "# Create a correlation matrix between the Year and Income\n",
    "Yincome_df = merged_df_V2[['Year', 'Income per Capita']]\n",
    "correlation_matrixyinc = Yincome_df.corr()\n",
    "print(correlation_matrixyinc)\n"
   ]
  },
  {
   "cell_type": "code",
   "execution_count": 106,
   "id": "9a798fa5-c89b-4084-ba8b-8e8b94e11e73",
   "metadata": {},
   "outputs": [
    {
     "name": "stdout",
     "output_type": "stream",
     "text": [
      "                   Home Value  Income per Capita\n",
      "Home Value           1.000000           0.686571\n",
      "Income per Capita    0.686571           1.000000\n"
     ]
    }
   ],
   "source": [
    "# Create a correlation matrix between Home Value and Income\n",
    "Homeincome_df = merged_df_V2[['Home Value', 'Income per Capita']]\n",
    "correlation_matrixyhinc = Homeincome_df.corr()\n",
    "print(correlation_matrixyhinc)\n"
   ]
  },
  {
   "cell_type": "markdown",
   "id": "0e1680b6-f7ad-4605-bca9-f15a2491f79b",
   "metadata": {},
   "source": [
    "#### Since Yearmerge_df showcases all three columns (Year, Home Value, Income per Capita) in one place. We shall focus on this data frame for the remainder of the correlation task."
   ]
  },
  {
   "cell_type": "code",
   "execution_count": 119,
   "id": "e95fabad-79fa-47a8-9f1f-d2f218d9f031",
   "metadata": {},
   "outputs": [
    {
     "data": {
      "image/png": "[encoded data removed]",
      "text/plain": [
       "<Figure size 480x480 with 1 Axes>"
      ]
     },
     "metadata": {},
     "output_type": "display_data"
    }
   ],
   "source": [
    "# Create a correlation heatmap using matplotlib\n",
    "plt.matshow(Yearmerge_df.corr())\n",
    "plt.show()"
   ]
  },
  {
   "cell_type": "code",
   "execution_count": 121,
   "id": "d54379d9-d93c-4762-9a0a-c8ddc99e22fa",
   "metadata": {},
   "outputs": [
    {
     "data": {
      "text/plain": [
       "Text(0.5, 1.0, 'Correlation Matrix')"
      ]
     },
     "execution_count": 121,
     "metadata": {},
     "output_type": "execute_result"
    }
   ],
   "source": [
    "# Now let's add some labels!\n",
    "plt.matshow(Yearmerge_df.corr()) # type of plot\n",
    "plt.xticks(range(Yearmerge_df.shape[1]), Yearmerge_df.columns, fontsize=14, rotation=45) # x axis labels\n",
    "plt.yticks(range(Yearmerge_df.shape[1]), Yearmerge_df.columns, fontsize=14) # y axis labels\n",
    "cb = plt.colorbar() # add a colour legend (called colorbar)\n",
    "cb.ax.tick_params(labelsize=14) # add font size\n",
    "plt.title('Correlation Matrix', fontsize=14) # add title"
   ]
  },
  {
   "cell_type": "code",
   "execution_count": 112,
   "id": "ee890e5e-9d9b-44f7-ab9b-d398b3b0f4c8",
   "metadata": {},
   "outputs": [
    {
     "data": {
      "image/png": "[encoded data removed]",
      "text/plain": [
       "<Figure size 480x480 with 2 Axes>"
      ]
     },
     "metadata": {},
     "output_type": "display_data"
    }
   ],
   "source": [
    "plt.show()"
   ]
  },
  {
   "cell_type": "code",
   "execution_count": 248,
   "id": "c7b8006d-5d28-4f78-b97c-c93433a01288",
   "metadata": {},
   "outputs": [],
   "source": [
    "#save image\n",
    "plt.matshow(Yearmerge_df.corr())\n",
    "plt.savefig(\"YHincome.png\") "
   ]
  },
  {
   "cell_type": "markdown",
   "id": "8c3f74cf-2c7b-45b5-a4c5-37387e27adbc",
   "metadata": {},
   "source": [
    "### Using Corrleation heatmap (Seaborn)"
   ]
  },
  {
   "cell_type": "code",
   "execution_count": 123,
   "id": "79c1ae9e-4a6f-4115-8441-6f34edc07d06",
   "metadata": {},
   "outputs": [],
   "source": [
    "# Create a correlation matrix between the Year, Home Value, and Income using pandas\n",
    "Yearmerge_df = merged_df_V2[['Year', 'Home Value', 'Income per Capita']]"
   ]
  },
  {
   "cell_type": "code",
   "execution_count": 127,
   "id": "effc97bf-d3e7-425a-8024-e384652af1f9",
   "metadata": {},
   "outputs": [
    {
     "data": {
      "image/png": "[encoded data removed]",
      "text/plain": [
       "<Figure size 800x600 with 2 Axes>"
      ]
     },
     "metadata": {},
     "output_type": "display_data"
    }
   ],
   "source": [
    "# Calculate the correlation matrix\n",
    "correlation_matrix = Yearmerge_df.corr()\n",
    "\n",
    "# Plot the heatmap\n",
    "plt.figure(figsize=(8, 6))\n",
    "sns.heatmap(correlation_matrix, annot=True, cmap=\"coolwarm\", fmt=\".2f\")\n",
    "plt.title(\"Correlation Matrix\")\n",
    "plt.show()"
   ]
  },
  {
   "cell_type": "code",
   "execution_count": 132,
   "id": "f685a911-c698-45ad-a68f-b8a6c5577327",
   "metadata": {},
   "outputs": [],
   "source": [
    "#save image\n",
    "sns.heatmap(correlation_matrix, annot=True, cmap=\"coolwarm\", fmt=\".2f\")\n",
    "plt.savefig(\"YHincomeheatmap.png\") "
   ]
  },
  {
   "cell_type": "markdown",
   "id": "fb39270f-be67-4b0b-8619-7eecdb7bcfb3",
   "metadata": {},
   "source": [
    "### Using Scatterplots"
   ]
  },
  {
   "cell_type": "code",
   "execution_count": 94,
   "id": "d09502d2-8b4a-4fee-9632-0cafc980179b",
   "metadata": {},
   "outputs": [],
   "source": [
    "# Create a correlation matrix between the Year, Home Value, and Income using pandas\n",
    "Yearmerge_df = merged_df_V2[['Year', 'Home Value', 'Income per Capita']]"
   ]
  },
  {
   "cell_type": "code",
   "execution_count": 96,
   "id": "21ce4b60-afce-4e50-9574-4113d3b085c5",
   "metadata": {},
   "outputs": [
    {
     "data": {
      "text/plain": [
       "(15000.0, 3000000.0)"
      ]
     },
     "execution_count": 96,
     "metadata": {},
     "output_type": "execute_result"
    }
   ],
   "source": [
    "# Set the y-axis limits to the year range 2000 - 2026\n",
    "plt.ylim([2000, 2026])\n",
    "plt.xlim([15000, 3000000])"
   ]
  },
  {
   "cell_type": "code",
   "execution_count": 102,
   "id": "f469457d-b398-48d2-9f2d-a49260bc5407",
   "metadata": {},
   "outputs": [
    {
     "data": {
      "image/png": "[encoded data removed]",
      "text/plain": [
       "<Figure size 640x480 with 1 Axes>"
      ]
     },
     "metadata": {},
     "output_type": "display_data"
    }
   ],
   "source": [
    "#Why isn't graph showing?\n",
    "#Show the plot\n",
    "plt.title('Scatterplot of Home Value vs Year')\n",
    "plt.xlabel('Home Value')\n",
    "plt.ylabel('Year')\n",
    "plt.show()"
   ]
  },
  {
   "cell_type": "code",
   "execution_count": 135,
   "id": "ef5197d3-a362-47f9-b009-bd16002c9805",
   "metadata": {},
   "outputs": [],
   "source": [
    "# Create a correlation matrix between the Year, Home Value, and Income using pandas\n",
    "Yearmerge_df = merged_df_V2[['Year', 'Home Value', 'Income per Capita']]"
   ]
  },
  {
   "cell_type": "code",
   "execution_count": 158,
   "id": "3c4f80f0-4dae-442f-9ba0-7e6550ee8b28",
   "metadata": {},
   "outputs": [
    {
     "data": {
      "text/plain": [
       "<seaborn.axisgrid.FacetGrid at 0x13eef69c0>"
      ]
     },
     "execution_count": 158,
     "metadata": {},
     "output_type": "execute_result"
    }
   ],
   "source": [
    "# Create a scatterplot for the \"Income per Capita\" and \"Year\" columns in seaborn\n",
    "sns.lmplot(x = 'Income per Capita', y = 'Year', data = Yearmerge_df)"
   ]
  },
  {
   "cell_type": "code",
   "execution_count": 160,
   "id": "f3aa75e0-ef5d-4637-a1ac-d872be6e86b7",
   "metadata": {},
   "outputs": [
    {
     "data": {
      "image/png": "[encoded data removed]",
      "text/plain": [
       "<Figure size 500x500 with 1 Axes>"
      ]
     },
     "metadata": {},
     "output_type": "display_data"
    }
   ],
   "source": [
    "#Show the plot\n",
    "plt.title('Scatterplot of Income vs Year')\n",
    "plt.xlabel('Income per Capita')\n",
    "plt.ylabel('Year')\n",
    "plt.show()"
   ]
  },
  {
   "cell_type": "markdown",
   "id": "f674294f-ca39-407b-932c-e71f45fa1810",
   "metadata": {},
   "source": [
    "### Using Pair Plots"
   ]
  },
  {
   "cell_type": "code",
   "execution_count": 146,
   "id": "48569e38-efce-4266-951c-86f49cc762dd",
   "metadata": {},
   "outputs": [],
   "source": [
    "# Create a correlation matrix between the Year, Home Value, and Income using pandas\n",
    "Yearmerge_df = merged_df_V2[['Year', 'Home Value', 'Income per Capita']]"
   ]
  },
  {
   "cell_type": "code",
   "execution_count": 148,
   "id": "8eafbe6a-1182-41be-aa22-36673284a9c8",
   "metadata": {},
   "outputs": [
    {
     "data": {
      "text/plain": [
       "<seaborn.axisgrid.PairGrid at 0x13d706bd0>"
      ]
     },
     "execution_count": 148,
     "metadata": {},
     "output_type": "execute_result"
    }
   ],
   "source": [
    "# Create a pair plot\n",
    "sns.pairplot(Yearmerge_df)"
   ]
  },
  {
   "cell_type": "code",
   "execution_count": 206,
   "id": "df91f5a5-c6ab-4309-8a0e-d976f9ff2618",
   "metadata": {},
   "outputs": [
    {
     "data": {
      "image/png": "[encoded data removed]",
      "text/plain": [
       "<Figure size 750x750 with 12 Axes>"
      ]
     },
     "metadata": {},
     "output_type": "display_data"
    }
   ],
   "source": [
    "plt.show()"
   ]
  },
  {
   "cell_type": "markdown",
   "id": "388f4a63-04ad-4fa6-8210-e68c4a004ab6",
   "metadata": {},
   "source": [
    "### Using Categorical Plots"
   ]
  },
  {
   "cell_type": "markdown",
   "id": "ca34fab8-bdba-4274-8997-6dcd62c14f68",
   "metadata": {},
   "source": [
    "#### Create a categorical variable that splits the \"Home Value\" column into categories"
   ]
  },
  {
   "cell_type": "code",
   "execution_count": 186,
   "id": "f070fd85-002a-466f-8f7f-d07b1f7ed814",
   "metadata": {},
   "outputs": [],
   "source": [
    "# Create a correlation matrix between the Year, Home Value, and Income using pandas\n",
    "Yearmerge_df = merged_df_V2[['Year', 'Home Value', 'Income per Capita']]"
   ]
  },
  {
   "cell_type": "code",
   "execution_count": 188,
   "id": "03bbaddb-b3e3-4b56-a111-b9814910a543",
   "metadata": {},
   "outputs": [
    {
     "data": {
      "text/plain": [
       "<Axes: xlabel='Home Value', ylabel='Count'>"
      ]
     },
     "execution_count": 188,
     "metadata": {},
     "output_type": "execute_result"
    }
   ],
   "source": [
    "# Create the histogram plot\n",
    "sns.histplot(Yearmerge_df['Home Value'], bins = 30, kde = True)"
   ]
  },
  {
   "cell_type": "code",
   "execution_count": 190,
   "id": "ccc025de-a727-4906-bc8e-d4bf07e79492",
   "metadata": {},
   "outputs": [
    {
     "data": {
      "image/png": "[encoded data removed]",
      "text/plain": [
       "<Figure size 640x480 with 1 Axes>"
      ]
     },
     "metadata": {},
     "output_type": "display_data"
    }
   ],
   "source": [
    "plt.show()"
   ]
  },
  {
   "cell_type": "markdown",
   "id": "b54ac887-d085-4e0c-8528-3f622106640b",
   "metadata": {},
   "source": [
    "#### Group and label the categories"
   ]
  },
  {
   "cell_type": "code",
   "execution_count": 137,
   "id": "9716102c-aca2-489e-88ce-ad11ceb14f95",
   "metadata": {},
   "outputs": [],
   "source": [
    "Yearmerge_df = Yearmerge_df.copy()"
   ]
  },
  {
   "cell_type": "code",
   "execution_count": 139,
   "id": "293e4bbb-5716-4987-9d40-8d45f67a4a95",
   "metadata": {},
   "outputs": [],
   "source": [
    "Yearmerge_df.loc[Yearmerge_df['Home Value'] < 300000, 'Home Value Category'] = 'Low Value'"
   ]
  },
  {
   "cell_type": "code",
   "execution_count": 141,
   "id": "42a648a1-28d0-4b26-bde8-dda8563cb5ec",
   "metadata": {},
   "outputs": [],
   "source": [
    "Yearmerge_df.loc[(Yearmerge_df['Home Value'] > 300000) & (Yearmerge_df['Home Value'] < 750000), 'Home Value Category'] = 'Medium Value'"
   ]
  },
  {
   "cell_type": "code",
   "execution_count": 143,
   "id": "06915d2b-a958-4213-87e8-70f51e58eeae",
   "metadata": {},
   "outputs": [],
   "source": [
    "Yearmerge_df.loc[Yearmerge_df['Home Value'] > 750000, 'Home Value Category'] = 'High Value'"
   ]
  },
  {
   "cell_type": "code",
   "execution_count": 145,
   "id": "2d65893b-d8cf-4fa0-bded-716995fa638c",
   "metadata": {},
   "outputs": [
    {
     "data": {
      "text/plain": [
       "Home Value Category\n",
       "Low Value       43919\n",
       "Medium Value     4250\n",
       "High Value        371\n",
       "Name: count, dtype: int64"
      ]
     },
     "execution_count": 145,
     "metadata": {},
     "output_type": "execute_result"
    }
   ],
   "source": [
    "Yearmerge_df['Home Value Category'].value_counts(dropna = False)"
   ]
  },
  {
   "cell_type": "code",
   "execution_count": 147,
   "id": "841265e6-daf0-4dfe-a0b6-7ed70510863c",
   "metadata": {},
   "outputs": [
    {
     "data": {
      "text/plain": [
       "Index(['Year', 'Home Value', 'Income per Capita', 'Home Value Category'], dtype='object')"
      ]
     },
     "execution_count": 147,
     "metadata": {},
     "output_type": "execute_result"
    }
   ],
   "source": [
    "Yearmerge_df.columns"
   ]
  },
  {
   "cell_type": "code",
   "execution_count": 153,
   "id": "d4c66018-4f6f-41cf-b0e9-44d7a30654a8",
   "metadata": {},
   "outputs": [
    {
     "data": {
      "text/plain": [
       "<seaborn.axisgrid.FacetGrid at 0x141c5c920>"
      ]
     },
     "execution_count": 153,
     "metadata": {},
     "output_type": "execute_result"
    }
   ],
   "source": [
    "# Sample a subset of the data to speed up plotting (e.g., 1% of the data) to reduce energy and save space\n",
    "sample_df = Yearmerge_df.sample(frac=0.01, random_state=42)\n",
    "sns.catplot(x='Home Value', y='Year', hue='Home Value Category', data=sample_df)"
   ]
  },
  {
   "cell_type": "code",
   "execution_count": 151,
   "id": "b86be1e3-b1c6-4aaf-98f6-e1ac3cf113b2",
   "metadata": {},
   "outputs": [
    {
     "data": {
      "image/png": "[encoded data removed]",
      "text/plain": [
       "<Figure size 662.611x500 with 1 Axes>"
      ]
     },
     "metadata": {},
     "output_type": "display_data"
    }
   ],
   "source": [
    "plt.show()"
   ]
  },
  {
   "cell_type": "code",
   "execution_count": null,
   "id": "4e675781-7683-4c7c-a5ae-0fccdb7c7e61",
   "metadata": {},
   "outputs": [],
   "source": [
    "sns.set(style=\"ticks\")\n",
    "sns.catplot(x='Home Value', y='Year', hue='Home Value Category', data=Yearmerge_df)"
   ]
  },
  {
   "cell_type": "code",
   "execution_count": null,
   "id": "e3edef85-924d-4f05-ac8f-705b741d1a9c",
   "metadata": {},
   "outputs": [],
   "source": []
  }
 ],
 "metadata": {
  "kernelspec": {
   "display_name": "Python 3 (ipykernel)",
   "language": "python",
   "name": "python3"
  },
  "language_info": {
   "codemirror_mode": {
    "name": "ipython",
    "version": 3
   },
   "file_extension": ".py",
   "mimetype": "text/x-python",
   "name": "python",
   "nbconvert_exporter": "python",
   "pygments_lexer": "ipython3",
   "version": "3.12.4"
  }
 },
 "nbformat": 4,
 "nbformat_minor": 5
}
